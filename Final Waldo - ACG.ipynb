{
 "cells": [
  {
   "cell_type": "markdown",
   "metadata": {},
   "source": [
    "## Image Momenta Dataset Building from csv files\n",
    "\n",
    "Here we are going to create the datasets using the files Waldo_Mom_df.csv, NW_Mom_df.csv, DomW_moments_df.csv and DomNW_moments_df.csv. Obviously, W refers to Waldo and NW to Non Waldo"
   ]
  },
  {
   "cell_type": "code",
   "execution_count": 1,
   "metadata": {},
   "outputs": [],
   "source": [
    "# loading packages\n",
    "\n",
    "# Almost default packages\n",
    "import numpy as np\n",
    "import pandas as pd\n",
    "import matplotlib.pyplot as plt\n",
    "import seaborn as sns\n",
    "\n",
    "# From scikit learn we need to properly split our dataset\n",
    "# as well as to perform Principal Component Analysis\n",
    "# and other stuff\n",
    "from sklearn.model_selection import train_test_split\n",
    "from sklearn.decomposition import PCA\n",
    "from sklearn.pipeline import Pipeline\n",
    "from sklearn.preprocessing import StandardScaler\n",
    "from sklearn.neighbors import KNeighborsClassifier\n",
    "from sklearn.metrics import confusion_matrix\n",
    "import scikitplot as skplt\n",
    "\n",
    "# Import OpenCV package. Important for Moment calculations\n",
    "import cv2\n",
    "\n",
    "# Inline plotting\n",
    "%matplotlib inline"
   ]
  },
  {
   "cell_type": "markdown",
   "metadata": {},
   "source": [
    "While pretty much all the work I did today has gone to shit, I was lucky enough to have saved the datasets. So, we read the datasets."
   ]
  },
  {
   "cell_type": "code",
   "execution_count": 16,
   "metadata": {},
   "outputs": [],
   "source": [
    "# For the moments of unmanipulated images\n",
    "Waldo_Mom_df = pd.read_csv('Waldo_Mom_df.csv')\n",
    "NW_Mom_df = pd.read_csv('NW_Mom_df.csv')\n",
    "\n",
    "# For the moments from dominant channel images\n",
    "DomW_moments_df = pd.read_csv('DomW_moments_df.csv')\n",
    "DomNW_moments_df = pd.read_csv('DomNW_moments_df.csv')\n",
    "\n",
    "# For completeness and just to make me feel slightly better,\n",
    "# I also load the greyscale dataset (Fuck that set, but I built it\n",
    "# and it took several hours of my life that I wont get back)\n",
    "# This are commented out\n",
    "# GreyW_moments_df = pd.read_csv('GreyW_moments_df.csv')\n",
    "# GreyNW_moments_df = pd.read_csv('GreyNW_moments_df.csv')\n",
    "\n",
    "# There is also the flattened pixels, but that data set is unreasonably huge\n",
    "# so screw that."
   ]
  },
  {
   "cell_type": "code",
   "execution_count": 17,
   "metadata": {},
   "outputs": [
    {
     "name": "stdout",
     "output_type": "stream",
     "text": [
      "Nan values before 18\n",
      "Nan values after 0\n"
     ]
    }
   ],
   "source": [
    "# In order to create the Full Dataset, we need to clean a couple issues in\n",
    "# the DataFrames\n",
    "\n",
    "# NW DataFrames contain some few NaN values\n",
    "print('Nan values before',sum(np.isnan(NW_Mom_df).any()))\n",
    "NW_Mom_df.fillna(0, inplace=True)\n",
    "DomNW_moments_df.fillna(0, inplace=True)\n",
    "# GreyNW_moments_df.fillna(0, inplace=True)\n",
    "print('Nan values after',sum(np.isnan(NW_Mom_df).any()))"
   ]
  },
  {
   "cell_type": "code",
   "execution_count": 19,
   "metadata": {},
   "outputs": [],
   "source": [
    "# Now the Full Dataset will consist of the union of the datagrames of momenta\n",
    "# from untouched and dominant channel images. As the csv files do contain a\n",
    "# 'Waldo' column, this has to be removed previously from all DataFrames\n",
    "\n",
    "Waldo_Mom_df.drop('Waldo', inplace=True, axis=1)\n",
    "NW_Mom_df.drop('Waldo', inplace=True, axis=1)\n",
    "\n",
    "DomW_moments_df.drop('Waldo', inplace=True, axis=1)\n",
    "DomNW_moments_df.drop('Waldo', inplace=True, axis=1)\n",
    "\n",
    "# GreyW_moments_df.drop('Waldo', inplace=True, axis=1)\n",
    "# GreyNW_moments_df.drop('Waldo', inplace=True, axis=1)"
   ]
  },
  {
   "cell_type": "code",
   "execution_count": 21,
   "metadata": {},
   "outputs": [],
   "source": [
    "# Now we join the Waldo DataFrames, and the NW DataFrames\n",
    "Full_Waldo_df = pd.concat([Waldo_Mom_df, DomW_moments_df], axis=1).reindex(Waldo_Mom_df.index)\n",
    "Full_NW_df = pd.concat([NW_Mom_df, DomNW_moments_df], axis=1).reindex(NW_Mom_df.index)\n",
    "\n",
    "# And add the appropriate 'Waldo' column to each one\n",
    "Full_Waldo_df['Waldo'] = 1\n",
    "Full_NW_df['Waldo'] = 0"
   ]
  },
  {
   "cell_type": "code",
   "execution_count": 29,
   "metadata": {},
   "outputs": [],
   "source": [
    "# And finally we join them together into the DataFrame to end all DataFrames\n",
    "# the mythical Full_data\n",
    "Full_data = pd.concat([Full_Waldo_df,Full_NW_df])"
   ]
  },
  {
   "cell_type": "code",
   "execution_count": 30,
   "metadata": {},
   "outputs": [
    {
     "data": {
      "text/html": [
       "<div>\n",
       "<style scoped>\n",
       "    .dataframe tbody tr th:only-of-type {\n",
       "        vertical-align: middle;\n",
       "    }\n",
       "\n",
       "    .dataframe tbody tr th {\n",
       "        vertical-align: top;\n",
       "    }\n",
       "\n",
       "    .dataframe thead th {\n",
       "        text-align: right;\n",
       "    }\n",
       "</style>\n",
       "<table border=\"1\" class=\"dataframe\">\n",
       "  <thead>\n",
       "    <tr style=\"text-align: right;\">\n",
       "      <th></th>\n",
       "      <th>m00_R</th>\n",
       "      <th>m00_G</th>\n",
       "      <th>m00_B</th>\n",
       "      <th>m01_R</th>\n",
       "      <th>m01_G</th>\n",
       "      <th>m01_B</th>\n",
       "      <th>m02_R</th>\n",
       "      <th>m02_G</th>\n",
       "      <th>m02_B</th>\n",
       "      <th>m03_R</th>\n",
       "      <th>...</th>\n",
       "      <th>Dom_Hu_R5</th>\n",
       "      <th>Dom_Hu_G5</th>\n",
       "      <th>Dom_Hu_B5</th>\n",
       "      <th>Dom_Hu_R6</th>\n",
       "      <th>Dom_Hu_G6</th>\n",
       "      <th>Dom_Hu_B6</th>\n",
       "      <th>Dom_Hu_R7</th>\n",
       "      <th>Dom_Hu_G7</th>\n",
       "      <th>Dom_Hu_B7</th>\n",
       "      <th>Waldo</th>\n",
       "    </tr>\n",
       "  </thead>\n",
       "  <tbody>\n",
       "    <tr>\n",
       "      <th>0</th>\n",
       "      <td>562776.0</td>\n",
       "      <td>461394.0</td>\n",
       "      <td>382607.0</td>\n",
       "      <td>18138800.0</td>\n",
       "      <td>15424857.0</td>\n",
       "      <td>13639027.0</td>\n",
       "      <td>775775802.0</td>\n",
       "      <td>677082273.0</td>\n",
       "      <td>618883295.0</td>\n",
       "      <td>3.701347e+10</td>\n",
       "      <td>...</td>\n",
       "      <td>20.972615</td>\n",
       "      <td>-17.729665</td>\n",
       "      <td>19.411863</td>\n",
       "      <td>14.595944</td>\n",
       "      <td>11.043253</td>\n",
       "      <td>-12.617343</td>\n",
       "      <td>21.140961</td>\n",
       "      <td>-16.574997</td>\n",
       "      <td>19.408328</td>\n",
       "      <td>1</td>\n",
       "    </tr>\n",
       "    <tr>\n",
       "      <th>1</th>\n",
       "      <td>688026.0</td>\n",
       "      <td>588902.0</td>\n",
       "      <td>265397.0</td>\n",
       "      <td>19546113.0</td>\n",
       "      <td>16848042.0</td>\n",
       "      <td>10006205.0</td>\n",
       "      <td>805598451.0</td>\n",
       "      <td>699274538.0</td>\n",
       "      <td>458527775.0</td>\n",
       "      <td>3.836533e+10</td>\n",
       "      <td>...</td>\n",
       "      <td>-22.240984</td>\n",
       "      <td>15.535643</td>\n",
       "      <td>15.297742</td>\n",
       "      <td>-15.021387</td>\n",
       "      <td>10.494301</td>\n",
       "      <td>10.444699</td>\n",
       "      <td>22.958618</td>\n",
       "      <td>16.023717</td>\n",
       "      <td>-16.326731</td>\n",
       "      <td>1</td>\n",
       "    </tr>\n",
       "    <tr>\n",
       "      <th>2</th>\n",
       "      <td>651908.0</td>\n",
       "      <td>551485.0</td>\n",
       "      <td>277243.0</td>\n",
       "      <td>19102730.0</td>\n",
       "      <td>16195169.0</td>\n",
       "      <td>9899127.0</td>\n",
       "      <td>806092576.0</td>\n",
       "      <td>681050005.0</td>\n",
       "      <td>430645187.0</td>\n",
       "      <td>3.869725e+10</td>\n",
       "      <td>...</td>\n",
       "      <td>-22.040053</td>\n",
       "      <td>-16.155986</td>\n",
       "      <td>15.547229</td>\n",
       "      <td>-14.946080</td>\n",
       "      <td>10.898386</td>\n",
       "      <td>10.620027</td>\n",
       "      <td>23.110656</td>\n",
       "      <td>15.867266</td>\n",
       "      <td>15.947216</td>\n",
       "      <td>1</td>\n",
       "    </tr>\n",
       "    <tr>\n",
       "      <th>3</th>\n",
       "      <td>563067.0</td>\n",
       "      <td>503787.0</td>\n",
       "      <td>392931.0</td>\n",
       "      <td>17974219.0</td>\n",
       "      <td>16710993.0</td>\n",
       "      <td>14066108.0</td>\n",
       "      <td>758159727.0</td>\n",
       "      <td>723354485.0</td>\n",
       "      <td>641071258.0</td>\n",
       "      <td>3.586437e+10</td>\n",
       "      <td>...</td>\n",
       "      <td>21.430712</td>\n",
       "      <td>-16.329048</td>\n",
       "      <td>-19.346919</td>\n",
       "      <td>-15.794456</td>\n",
       "      <td>11.067559</td>\n",
       "      <td>-12.291619</td>\n",
       "      <td>21.848960</td>\n",
       "      <td>-16.438878</td>\n",
       "      <td>-18.603020</td>\n",
       "      <td>1</td>\n",
       "    </tr>\n",
       "    <tr>\n",
       "      <th>4</th>\n",
       "      <td>673054.0</td>\n",
       "      <td>543029.0</td>\n",
       "      <td>262571.0</td>\n",
       "      <td>19869665.0</td>\n",
       "      <td>15594103.0</td>\n",
       "      <td>9062231.0</td>\n",
       "      <td>835994465.0</td>\n",
       "      <td>651516061.0</td>\n",
       "      <td>397979875.0</td>\n",
       "      <td>4.004752e+10</td>\n",
       "      <td>...</td>\n",
       "      <td>-24.495910</td>\n",
       "      <td>18.079019</td>\n",
       "      <td>16.658940</td>\n",
       "      <td>-16.552379</td>\n",
       "      <td>-12.423307</td>\n",
       "      <td>11.524571</td>\n",
       "      <td>-24.135692</td>\n",
       "      <td>-18.552852</td>\n",
       "      <td>-16.720203</td>\n",
       "      <td>1</td>\n",
       "    </tr>\n",
       "  </tbody>\n",
       "</table>\n",
       "<p>5 rows × 187 columns</p>\n",
       "</div>"
      ],
      "text/plain": [
       "      m00_R     m00_G     m00_B       m01_R       m01_G       m01_B  \\\n",
       "0  562776.0  461394.0  382607.0  18138800.0  15424857.0  13639027.0   \n",
       "1  688026.0  588902.0  265397.0  19546113.0  16848042.0  10006205.0   \n",
       "2  651908.0  551485.0  277243.0  19102730.0  16195169.0   9899127.0   \n",
       "3  563067.0  503787.0  392931.0  17974219.0  16710993.0  14066108.0   \n",
       "4  673054.0  543029.0  262571.0  19869665.0  15594103.0   9062231.0   \n",
       "\n",
       "         m02_R        m02_G        m02_B         m03_R  ...    Dom_Hu_R5  \\\n",
       "0  775775802.0  677082273.0  618883295.0  3.701347e+10  ...    20.972615   \n",
       "1  805598451.0  699274538.0  458527775.0  3.836533e+10  ...   -22.240984   \n",
       "2  806092576.0  681050005.0  430645187.0  3.869725e+10  ...   -22.040053   \n",
       "3  758159727.0  723354485.0  641071258.0  3.586437e+10  ...    21.430712   \n",
       "4  835994465.0  651516061.0  397979875.0  4.004752e+10  ...   -24.495910   \n",
       "\n",
       "   Dom_Hu_G5  Dom_Hu_B5  Dom_Hu_R6  Dom_Hu_G6  Dom_Hu_B6  Dom_Hu_R7  \\\n",
       "0 -17.729665  19.411863  14.595944  11.043253 -12.617343  21.140961   \n",
       "1  15.535643  15.297742 -15.021387  10.494301  10.444699  22.958618   \n",
       "2 -16.155986  15.547229 -14.946080  10.898386  10.620027  23.110656   \n",
       "3 -16.329048 -19.346919 -15.794456  11.067559 -12.291619  21.848960   \n",
       "4  18.079019  16.658940 -16.552379 -12.423307  11.524571 -24.135692   \n",
       "\n",
       "   Dom_Hu_G7  Dom_Hu_B7  Waldo  \n",
       "0 -16.574997  19.408328      1  \n",
       "1  16.023717 -16.326731      1  \n",
       "2  15.867266  15.947216      1  \n",
       "3 -16.438878 -18.603020      1  \n",
       "4 -18.552852 -16.720203      1  \n",
       "\n",
       "[5 rows x 187 columns]"
      ]
     },
     "execution_count": 30,
     "metadata": {},
     "output_type": "execute_result"
    }
   ],
   "source": [
    "# Just to showcase everything is correct so far\n",
    "Full_data.head()"
   ]
  },
  {
   "cell_type": "markdown",
   "metadata": {},
   "source": [
    "### Ok, now we do have the Dataset and can proceed with analysis"
   ]
  },
  {
   "cell_type": "code",
   "execution_count": 32,
   "metadata": {},
   "outputs": [],
   "source": [
    "# Do the test - train split\n",
    "X_train, X_test, y_train, y_test = train_test_split(Full_data.iloc[:,:-1],Full_data['Waldo'],\n",
    "                                                 test_size = .25,random_state = 614,shuffle = True)"
   ]
  },
  {
   "cell_type": "code",
   "execution_count": 35,
   "metadata": {},
   "outputs": [
    {
     "data": {
      "text/plain": [
       "PCA(copy=True, iterated_power='auto', n_components=None, random_state=None,\n",
       "  svd_solver='auto', tol=0.0, whiten=False)"
      ]
     },
     "execution_count": 35,
     "metadata": {},
     "output_type": "execute_result"
    }
   ],
   "source": [
    "# Fit the PCA algorithm\n",
    "pca = PCA()\n",
    "pca.fit(X_train)"
   ]
  },
  {
   "cell_type": "code",
   "execution_count": 38,
   "metadata": {},
   "outputs": [
    {
     "data": {
      "image/png": "[encoded data removed]",
      "text/plain": [
       "<Figure size 432x288 with 1 Axes>"
      ]
     },
     "metadata": {},
     "output_type": "display_data"
    }
   ],
   "source": [
    "# Visualize the explained variance\n",
    "Exp_var = np.cumsum(pca.explained_variance_ratio_)\n",
    "plt.plot(range(Exp_var.size), 1 - Exp_var)\n",
    "plt.grid()"
   ]
  },
  {
   "cell_type": "code",
   "execution_count": 39,
   "metadata": {},
   "outputs": [
    {
     "data": {
      "image/png": "[encoded data removed]",
      "text/plain": [
       "<Figure size 432x288 with 1 Axes>"
      ]
     },
     "metadata": {},
     "output_type": "display_data"
    }
   ],
   "source": [
    "# Now in logarithmic scale\n",
    "Exp_var = np.cumsum(pca.explained_variance_ratio_)\n",
    "plt.plot(range(Exp_var.size), 1 - Exp_var)\n",
    "plt.yscale('log')\n",
    "plt.grid()"
   ]
  },
  {
   "cell_type": "code",
   "execution_count": 40,
   "metadata": {},
   "outputs": [],
   "source": [
    "# We take 60 components, a little overkill but\n",
    "# better be safe than sorry\n",
    "\n",
    "# Lets create the pipeline for this case\n",
    "pca_pipe_n60 = Pipeline([('scaler',StandardScaler()), ('pca',PCA(n_components=60))])\n",
    "\n",
    "# Fit PCA using ONLY the train set\n",
    "pca_pipe_n60.fit(X_train)\n",
    "\n",
    "# And with the obtained components we project the sets\n",
    "X_pca60_train = pca_pipe_n60.transform(X_train)\n",
    "X_pca60_test = pca_pipe_n60.transform(X_test)\n",
    "\n",
    "# It is important to use transform and not fit transform. I believe\n",
    "# scikit is smart enough to avoid fitting the model twice, but it \n",
    "# should be noted"
   ]
  },
  {
   "cell_type": "code",
   "execution_count": 41,
   "metadata": {},
   "outputs": [
    {
     "data": {
      "image/png": "[encoded data removed]",
      "text/plain": [
       "<Figure size 576x576 with 1 Axes>"
      ]
     },
     "metadata": {},
     "output_type": "display_data"
    }
   ],
   "source": [
    "# Now we check the component projections\n",
    "plt.figure(figsize = (8,8))\n",
    "\n",
    "plt.scatter(X_pca60_train[y_train==0,0],X_pca60_train[y_train==0,1],c='blue',label='Not Waldo')\n",
    "plt.scatter(X_pca60_train[y_train==1,0],X_pca60_train[y_train==1,1],c='red',label='Waldo')\n",
    "\n",
    "plt.legend(fontsize=14)\n",
    "plt.xlabel(\"First Component\",fontsize=18)\n",
    "plt.ylabel(\"Second Component\",fontsize=18)\n",
    "\n",
    "plt.show()"
   ]
  },
  {
   "cell_type": "markdown",
   "metadata": {},
   "source": [
    "### This is the best dataset I have been able to construct !!\n",
    "Now we proceed to perform the K-Neighbors classification"
   ]
  },
  {
   "cell_type": "code",
   "execution_count": 42,
   "metadata": {},
   "outputs": [
    {
     "name": "stdout",
     "output_type": "stream",
     "text": [
      "1 1.0 0.989075018208303\n",
      "2 0.9999190742089504 0.9946588977907259\n",
      "3 0.9944161204175771 0.9893177955814518\n",
      "4 0.996924819940115 0.9929594561786842\n",
      "5 0.9935259367160314 0.9900461277008983\n",
      "6 0.9954681557012219 0.9941733430444283\n",
      "7 0.9936877882981306 0.9910172371934935\n",
      "8 0.9948207493728252 0.9941733430444283\n",
      "9 0.9934450109249818 0.9922311240592376\n",
      "10 0.9953063041191228 0.9944161204175771\n"
     ]
    }
   ],
   "source": [
    "# Now we can proceed with the Knn algorithm and check results\n",
    "# The number of K-Neighbors is sampled\n",
    "# Save a list of Knn fits, Knn predictions of the test set and scores\n",
    "Knn_fits_u = []\n",
    "Knn_pred_u = []\n",
    "Knn_scor_u = []\n",
    "\n",
    "for i in range(1,11):\n",
    "    knn_pca_u = KNeighborsClassifier(n_neighbors=i, weights='uniform', n_jobs=-1)\n",
    "    knn_pca_u.fit(X_pca60_train, y_train)\n",
    "    Train_score = knn_pca_u.score(X_pca60_train, y_train)\n",
    "    Test_score = knn_pca_u.score(X_pca60_test, y_test)\n",
    "    Knn_fits_u.append(knn_pca_u)\n",
    "    Knn_pred_u.append(knn_pca_u.predict(X_pca60_test))\n",
    "    Knn_scor_u.append([i, Train_score, Test_score])\n",
    "    print(i, Train_score, Test_score)"
   ]
  },
  {
   "cell_type": "code",
   "execution_count": 43,
   "metadata": {},
   "outputs": [
    {
     "name": "stdout",
     "output_type": "stream",
     "text": [
      "1 1.0 0.989075018208303\n",
      "2 1.0 0.989075018208303\n",
      "3 1.0 0.9900461277008983\n",
      "4 1.0 0.9905316824471959\n",
      "5 1.0 0.9902889050740471\n",
      "6 1.0 0.9915027919397912\n",
      "7 1.0 0.9912600145666424\n",
      "8 1.0 0.99174556931294\n",
      "9 1.0 0.9924739014323865\n",
      "10 1.0 0.9934450109249818\n"
     ]
    }
   ],
   "source": [
    "# The same, but this time we use the distance as weights\n",
    "Knn_fits_d = []\n",
    "Knn_pred_d = []\n",
    "Knn_scor_d = []\n",
    "\n",
    "for i in range(1,11):\n",
    "    knn_pca_d = KNeighborsClassifier(n_neighbors=i, weights='distance', n_jobs=-1)\n",
    "    knn_pca_d.fit(X_pca60_train, y_train)\n",
    "    Train_score = knn_pca_d.score(X_pca60_train, y_train)\n",
    "    Test_score = knn_pca_d.score(X_pca60_test, y_test)\n",
    "    Knn_fits_d.append(knn_pca_d)\n",
    "    Knn_pred_d.append(knn_pca_d.predict(X_pca60_test))\n",
    "    Knn_scor_d.append([i, Train_score, Test_score])\n",
    "    print(i, Train_score, Test_score)"
   ]
  },
  {
   "cell_type": "markdown",
   "metadata": {},
   "source": [
    "Using distance instead of uniform weights seem to do better"
   ]
  },
  {
   "cell_type": "code",
   "execution_count": 60,
   "metadata": {},
   "outputs": [
    {
     "data": {
      "text/plain": [
       "array([[3984,   41],\n",
       "       [   0,   94]], dtype=int64)"
      ]
     },
     "execution_count": 60,
     "metadata": {},
     "output_type": "execute_result"
    }
   ],
   "source": [
    "confusion_matrix(y_test, Knn_pred_d[2])"
   ]
  },
  {
   "cell_type": "code",
   "execution_count": 61,
   "metadata": {},
   "outputs": [
    {
     "data": {
      "text/plain": [
       "<matplotlib.axes._subplots.AxesSubplot at 0x15b07eb86d8>"
      ]
     },
     "execution_count": 61,
     "metadata": {},
     "output_type": "execute_result"
    },
    {
     "data": {
      "image/png": "[encoded data removed]",
      "text/plain": [
       "<Figure size 864x864 with 2 Axes>"
      ]
     },
     "metadata": {},
     "output_type": "display_data"
    }
   ],
   "source": [
    "skplt.metrics.plot_confusion_matrix(y_test, \n",
    "    Knn_pred_d[2],figsize=(12,12))"
   ]
  },
  {
   "cell_type": "code",
   "execution_count": null,
   "metadata": {},
   "outputs": [],
   "source": []
  }
 ],
 "metadata": {
  "kernelspec": {
   "display_name": "Python 3",
   "language": "python",
   "name": "python3"
  },
  "language_info": {
   "codemirror_mode": {
    "name": "ipython",
    "version": 3
   },
   "file_extension": ".py",
   "mimetype": "text/x-python",
   "name": "python",
   "nbconvert_exporter": "python",
   "pygments_lexer": "ipython3",
   "version": "3.6.5"
  }
 },
 "nbformat": 4,
 "nbformat_minor": 2
}
